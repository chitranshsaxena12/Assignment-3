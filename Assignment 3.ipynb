{
 "cells": [
  {
   "cell_type": "code",
   "execution_count": 20,
   "id": "da4bc855",
   "metadata": {},
   "outputs": [],
   "source": [
    "b=[1,2,3,4,5,6,7,8,9,10]\n",
    "def myreduce(a,b):\n",
    "    z=b[0]\n",
    "    for i in range(1,len(b)):\n",
    "        z=a(z,b[i])\n",
    "    return(z)\n",
    "        "
   ]
  },
  {
   "cell_type": "code",
   "execution_count": 21,
   "id": "ee4d36b4",
   "metadata": {},
   "outputs": [
    {
     "data": {
      "text/plain": [
       "55"
      ]
     },
     "execution_count": 21,
     "metadata": {},
     "output_type": "execute_result"
    }
   ],
   "source": [
    "myreduce(lambda x,y: x+y,b)\n",
    "\n",
    "\n"
   ]
  },
  {
   "cell_type": "code",
   "execution_count": 22,
   "id": "13a79e03",
   "metadata": {},
   "outputs": [
    {
     "data": {
      "text/plain": [
       "3628800"
      ]
     },
     "execution_count": 22,
     "metadata": {},
     "output_type": "execute_result"
    }
   ],
   "source": [
    "myreduce(lambda x,y: x*y,b)\n"
   ]
  },
  {
   "cell_type": "code",
   "execution_count": 23,
   "id": "2c35f398",
   "metadata": {},
   "outputs": [
    {
     "data": {
      "text/plain": [
       "-53"
      ]
     },
     "execution_count": 23,
     "metadata": {},
     "output_type": "execute_result"
    }
   ],
   "source": [
    "myreduce(lambda x,y: x-y,b)\n"
   ]
  },
  {
   "cell_type": "code",
   "execution_count": 24,
   "id": "06fa1aa5",
   "metadata": {},
   "outputs": [
    {
     "data": {
      "text/plain": [
       "2.7557319223985894e-07"
      ]
     },
     "execution_count": 24,
     "metadata": {},
     "output_type": "execute_result"
    }
   ],
   "source": [
    "myreduce(lambda x,y: x/y,b)\n"
   ]
  },
  {
   "cell_type": "code",
   "execution_count": 27,
   "id": "74392786",
   "metadata": {},
   "outputs": [
    {
     "name": "stdout",
     "output_type": "stream",
     "text": [
      "9\n"
     ]
    }
   ],
   "source": [
    "b=[1,3,2,4,5,6,7,8,9,1]\n",
    "def myreduce(a,b):\n",
    "    z=b[0]\n",
    "    for i in range(1,len(b)):\n",
    "        z=a(z,b[i])\n",
    "    print(z)\n",
    "a=myreduce((lambda x,y: y if (y>x) else x), b)"
   ]
  },
  {
   "cell_type": "code",
   "execution_count": 10,
   "id": "4361fadd",
   "metadata": {},
   "outputs": [],
   "source": [
    "def myfilter(a,b):\n",
    "    for i in b:\n",
    "        if a(i)==True:\n",
    "            print(i)"
   ]
  },
  {
   "cell_type": "code",
   "execution_count": 11,
   "id": "6a26d96f",
   "metadata": {},
   "outputs": [
    {
     "name": "stdout",
     "output_type": "stream",
     "text": [
      "2\n",
      "4\n",
      "6\n",
      "8\n",
      "10\n"
     ]
    }
   ],
   "source": [
    "myfilter(lambda x: x%2==0,b)"
   ]
  },
  {
   "cell_type": "code",
   "execution_count": 12,
   "id": "bb5c0ceb",
   "metadata": {},
   "outputs": [
    {
     "name": "stdout",
     "output_type": "stream",
     "text": [
      "1\n",
      "3\n",
      "5\n",
      "7\n",
      "9\n"
     ]
    }
   ],
   "source": [
    "myfilter(lambda x: x%2!=0,b)"
   ]
  },
  {
   "cell_type": "code",
   "execution_count": 13,
   "id": "1758d0d6",
   "metadata": {},
   "outputs": [
    {
     "name": "stdout",
     "output_type": "stream",
     "text": [
      "1\n",
      "2\n",
      "ram\n"
     ]
    }
   ],
   "source": [
    "myfilter(lambda x: type(x)==str,[\"1\",\"2\",3,4,5,\"ram\"])"
   ]
  },
  {
   "cell_type": "code",
   "execution_count": 17,
   "id": "97a56636",
   "metadata": {},
   "outputs": [
    {
     "name": "stdout",
     "output_type": "stream",
     "text": [
      "True\n",
      "False\n"
     ]
    }
   ],
   "source": [
    "myfilter(lambda x: type(x)==bool,[\"1\",\"2\",3,4,5,\"ram\",True,False])"
   ]
  },
  {
   "cell_type": "code",
   "execution_count": 16,
   "id": "c108bc01",
   "metadata": {},
   "outputs": [
    {
     "name": "stdout",
     "output_type": "stream",
     "text": [
      "['x', 'xx', 'xxx', 'xxxx', 'y', 'yy', 'yyy', 'yyyy', 'z', 'zz', 'zzz', 'zzzz']\n",
      "['x', 'y', 'z', 'xx', 'yy', 'zz', 'xxx', 'yyy', 'zzz', 'xxxx', 'yyyy', 'zzzz']\n",
      "[[2], [3], [4], [3], [4], [5], [4], [5], [6]]\n",
      "[[2, 3, 4, 5], [3, 4, 5, 6], [4, 5, 6, 7], [5, 6, 7, 8]]\n",
      "[(1, 1), (2, 1), (3, 1), (1, 2), (2, 2), (3, 2), (1, 3), (2, 3), (3, 3)]\n"
     ]
    }
   ],
   "source": [
    "a=\"xyz\"\n",
    "l=[]\n",
    "for i in range(len(a)):\n",
    "       for j in range(1,5):\n",
    "            l.append(a[i]*j)\n",
    "print(l)\n",
    "                \n",
    "b=[l*i for i in range(1,5) for l in 'xyz']    \n",
    "print(b)\n",
    "\n",
    "a = [2, 3,4]\n",
    "pattern = [[i + j] for i in a for j in range(0, 3)]\n",
    "print(pattern)\n",
    "\n",
    "a = [2, 3, 4, 5]\n",
    "pattern = [[i + j for i in a] for j in range(0, 4)]\n",
    "print(pattern)\n",
    "\n",
    "nums1 = [1, 2, 3]\n",
    "nums2 = [1,2,3]\n",
    "nums=[(y,x) for x in nums1 for y in nums2]\n",
    "print(nums)\n",
    "            "
   ]
  }
 ],
 "metadata": {
  "kernelspec": {
   "display_name": "Python 3 (ipykernel)",
   "language": "python",
   "name": "python3"
  },
  "language_info": {
   "codemirror_mode": {
    "name": "ipython",
    "version": 3
   },
   "file_extension": ".py",
   "mimetype": "text/x-python",
   "name": "python",
   "nbconvert_exporter": "python",
   "pygments_lexer": "ipython3",
   "version": "3.9.7"
  }
 },
 "nbformat": 4,
 "nbformat_minor": 5
}
